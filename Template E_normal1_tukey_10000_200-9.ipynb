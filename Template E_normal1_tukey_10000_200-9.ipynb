{
 "cells": [
  {
   "cell_type": "code",
   "execution_count": 4,
   "metadata": {
    "scrolled": true
   },
   "outputs": [
    {
     "name": "stdout",
     "output_type": "stream",
     "text": [
      "0\n",
      "1\n",
      "2\n",
      "3\n",
      "4\n",
      "5\n",
      "6\n",
      "7\n",
      "8\n",
      "9\n",
      "9\n"
     ]
    }
   ],
   "source": [
    "import numpy as np\n",
    "from scipy import signal\n",
    "import pandas as pd\n",
    "import datetime\n",
    "from matplotlib import pyplot as plt\n",
    "import random\n",
    "# start_time = datetime.datetime.now() \n",
    "\n",
    "n = 10000\n",
    "m = int(n/10)\n",
    "c = [0.5*i for i in range(10)]\n",
    "re = []\n",
    "for r in range(10):\n",
    "    err_res = []\n",
    "    for j in range(10):\n",
    "        x = np.random.rand(n)\n",
    "        x = np.sort(x)\n",
    "        e = np.random.normal(0, 1, n)\n",
    "        y = [e[i] if (x[i] <=0.25 or x[i]>=0.5) else 4*x[i]-1+e[i] for i in range(n)]\n",
    "        res = []\n",
    "        for a in range(-m,m):\n",
    "            f = [0 if (x[i] <= (0.25+a/(10*n)) or x[i]>=(0.5+a/(10*n))) else 4*(x[i]-a/(10*n))-1 for i in range(n)]\n",
    "            diff = sum([1-(1-((y[i]-f[i])/c[r])**2)**3 if abs(y[i]-f[i])<=c[r] else 1 for i in range(n)])\n",
    "            res.append(diff)\n",
    "        min_res = min(res)\n",
    "        in_res = [i for i in range(2*m) if res[i]==min_res]\n",
    "        lo_res = random.sample(in_res, 1)[0]\n",
    "        err = (lo_res-m)/(10*n)\n",
    "        err_res.append(err)\n",
    "    re.append(np.sum([t**2 for t in err_res]))\n",
    "    print(r)\n",
    "c0 = re.index(min(re))\n",
    "print(c0)\n",
    "\n",
    "err_res = []\n",
    "for j in range(200):\n",
    "    x = np.random.rand(n)\n",
    "    x = np.sort(x)\n",
    "    e = np.random.normal(0, 1, n)\n",
    "    y = [e[i] if (x[i] <=0.25 or x[i]>=0.5) else 4*x[i]-1+e[i] for i in range(n)]\n",
    "    res = []\n",
    "    for a in range(-m,m):\n",
    "        f = [0 if (x[i] <= (0.25+a/(10*n)) or x[i]>=(0.5+a/(10*n))) else 4*(x[i]-a/(10*n))-1 for i in range(n)]\n",
    "        diff = sum([1-(1-((y[i]-f[i])/c[c0])**2)**3 if abs(y[i]-f[i])<=c[c0] else 1 for i in range(n)])\n",
    "        res.append(diff)\n",
    "    min_res = min(res)\n",
    "    in_res = [i for i in range(2*m) if res[i]==min_res]\n",
    "    lo_res = random.sample(in_res, 1)[0]\n",
    "    err = (lo_res-m)/(10*n)\n",
    "    err_res.append(err)\n",
    "#     print(j)\n",
    "\n",
    "with open(\"Template E_normal1_tukey_10000_200.txt\", \"w\") as f:\n",
    "    for s in err_res:\n",
    "        f.write(str(s) +\"\\n\")   \n",
    "        \n",
    "# score = []\n",
    "# with open(\"file.txt\", \"r\") as f:\n",
    "#     for line in f:\n",
    "#         score.append(float(line.strip()))\n",
    "    \n",
    "# end_time = datetime.datetime.now()     \n",
    "# interval = (end_time-start_time).seconds\n",
    "# final_time = interval/60.0 \n",
    "# print ('Time:\\t', final_time)   "
   ]
  },
  {
   "cell_type": "code",
   "execution_count": 5,
   "metadata": {},
   "outputs": [
    {
     "data": {
      "text/plain": [
       "(array([  2.,   1.,   7.,  12.,  46., 106.,  16.,   6.,   3.,   1.]),\n",
       " array([-0.00274 , -0.002228, -0.001716, -0.001204, -0.000692, -0.00018 ,\n",
       "         0.000332,  0.000844,  0.001356,  0.001868,  0.00238 ]),\n",
       " <a list of 10 Patch objects>)"
      ]
     },
     "execution_count": 5,
     "metadata": {},
     "output_type": "execute_result"
    },
    {
     "data": {
      "image/png": "[encoded data removed]",
      "text/plain": [
       "<Figure size 432x288 with 1 Axes>"
      ]
     },
     "metadata": {
      "needs_background": "light"
     },
     "output_type": "display_data"
    }
   ],
   "source": [
    "from matplotlib import pyplot as plt\n",
    "score = []\n",
    "with open(\"Template E_normal1_tukey_10000_200.txt\", \"r\") as f:\n",
    "    for line in f:\n",
    "        score.append(float(line.strip()))\n",
    "        \n",
    "plt.hist(score)"
   ]
  },
  {
   "cell_type": "code",
   "execution_count": 6,
   "metadata": {},
   "outputs": [
    {
     "data": {
      "text/plain": [
       "0.0004008"
      ]
     },
     "execution_count": 6,
     "metadata": {},
     "output_type": "execute_result"
    }
   ],
   "source": [
    "import numpy as np\n",
    "np.mean([abs(i) for i in score])"
   ]
  },
  {
   "cell_type": "code",
   "execution_count": null,
   "metadata": {},
   "outputs": [],
   "source": []
  }
 ],
 "metadata": {
  "kernelspec": {
   "display_name": "Python 3",
   "language": "python",
   "name": "python3"
  },
  "language_info": {
   "codemirror_mode": {
    "name": "ipython",
    "version": 3
   },
   "file_extension": ".py",
   "mimetype": "text/x-python",
   "name": "python",
   "nbconvert_exporter": "python",
   "pygments_lexer": "ipython3",
   "version": "3.7.1"
  }
 },
 "nbformat": 4,
 "nbformat_minor": 2
}
