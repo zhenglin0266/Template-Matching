{
 "cells": [
  {
   "cell_type": "code",
   "execution_count": 1,
   "metadata": {
    "scrolled": true
   },
   "outputs": [],
   "source": [
    "import numpy as np\n",
    "from scipy import signal\n",
    "import pandas as pd\n",
    "import datetime\n",
    "from matplotlib import pyplot as plt\n",
    "import random\n",
    "# start_time = datetime.datetime.now() \n",
    "\n",
    "n = 10000\n",
    "m = int(n/2)\n",
    "err_res = []\n",
    "for j in range(200):\n",
    "    x = np.random.rand(n)\n",
    "    x = np.sort(x)\n",
    "    e = np.random.standard_cauchy(n)\n",
    "    y = [e[i] if (x[i] <=0.25 or x[i]>=0.75) else 4*x[i]-1+e[i] if x[i]<= 0.5 else 3-4*x[i]+e[i] for i in range(n)]\n",
    "    res = []\n",
    "    for a in range(-m,m):\n",
    "        f = [0 if (x[i] <= (0.25+a/m) or x[i]>=(0.75+a/m)) else 4*(x[i]-a/m)-1 if x[i]<= (0.5+a/m) else 3-4*(x[i]-a/m) for i in range(n)]\n",
    "        diff = sum([(y[i]-f[i])**2 for i in range(n)])\n",
    "        res.append(diff)\n",
    "    min_res = min(res)\n",
    "    in_res = [i for i in range(2*m) if res[i]==min_res]\n",
    "    lo_res = random.sample(in_res, 1)[0]\n",
    "    err = (lo_res-m)/m\n",
    "    err_res.append(err)\n",
    "#     print(j)\n",
    "\n",
    "with open(\"Template A_cauchy1_square_10000_200.txt\", \"w\") as f:\n",
    "    for s in err_res:\n",
    "        f.write(str(s) +\"\\n\")   \n",
    "        \n",
    "# score = []\n",
    "# with open(\"file.txt\", \"r\") as f:\n",
    "#     for line in f:\n",
    "#         score.append(float(line.strip()))\n",
    "    \n",
    "# end_time = datetime.datetime.now()     \n",
    "# interval = (end_time-start_time).seconds\n",
    "# final_time = interval/60.0 \n",
    "# print ('Time:\\t', final_time)   "
   ]
  },
  {
   "cell_type": "code",
   "execution_count": 4,
   "metadata": {},
   "outputs": [
    {
     "data": {
      "text/plain": [
       "(array([ 6., 21., 18., 21., 30., 39., 20., 18., 23.,  4.]),\n",
       " array([-0.7176 , -0.57694, -0.43628, -0.29562, -0.15496, -0.0143 ,\n",
       "         0.12636,  0.26702,  0.40768,  0.54834,  0.689  ]),\n",
       " <a list of 10 Patch objects>)"
      ]
     },
     "execution_count": 4,
     "metadata": {},
     "output_type": "execute_result"
    },
    {
     "data": {
      "image/png": "[encoded data removed]",
      "text/plain": [
       "<Figure size 432x288 with 1 Axes>"
      ]
     },
     "metadata": {
      "needs_background": "light"
     },
     "output_type": "display_data"
    }
   ],
   "source": [
    "from matplotlib import pyplot as plt\n",
    "score = []\n",
    "with open(\"Template A_cauchy1_square_10000_200.txt\", \"r\") as f:\n",
    "    for line in f:\n",
    "        score.append(float(line.strip()))\n",
    "        \n",
    "plt.hist(score)"
   ]
  },
  {
   "cell_type": "code",
   "execution_count": 5,
   "metadata": {},
   "outputs": [
    {
     "data": {
      "text/plain": [
       "0.26296200000000003"
      ]
     },
     "execution_count": 5,
     "metadata": {},
     "output_type": "execute_result"
    }
   ],
   "source": [
    "import numpy as np\n",
    "np.mean([abs(i) for i in score])"
   ]
  },
  {
   "cell_type": "code",
   "execution_count": null,
   "metadata": {},
   "outputs": [],
   "source": []
  }
 ],
 "metadata": {
  "kernelspec": {
   "display_name": "Python 3",
   "language": "python",
   "name": "python3"
  },
  "language_info": {
   "codemirror_mode": {
    "name": "ipython",
    "version": 3
   },
   "file_extension": ".py",
   "mimetype": "text/x-python",
   "name": "python",
   "nbconvert_exporter": "python",
   "pygments_lexer": "ipython3",
   "version": "3.7.1"
  }
 },
 "nbformat": 4,
 "nbformat_minor": 2
}
